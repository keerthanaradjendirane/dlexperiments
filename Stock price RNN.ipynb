{
 "cells": [
  {
   "cell_type": "code",
   "execution_count": 1,
   "id": "01ff22e9",
   "metadata": {},
   "outputs": [
    {
     "name": "stdout",
     "output_type": "stream",
     "text": [
      "Requirement already satisfied: tensorflow in d:\\anaconda\\lib\\site-packages (2.17.0)\n",
      "Requirement already satisfied: tensorflow-intel==2.17.0 in d:\\anaconda\\lib\\site-packages (from tensorflow) (2.17.0)\n",
      "Requirement already satisfied: grpcio<2.0,>=1.24.3 in d:\\anaconda\\lib\\site-packages (from tensorflow-intel==2.17.0->tensorflow) (1.66.2)\n",
      "Requirement already satisfied: setuptools in d:\\anaconda\\lib\\site-packages (from tensorflow-intel==2.17.0->tensorflow) (65.6.3)\n",
      "Requirement already satisfied: termcolor>=1.1.0 in d:\\anaconda\\lib\\site-packages (from tensorflow-intel==2.17.0->tensorflow) (2.5.0)\n",
      "Requirement already satisfied: protobuf!=4.21.0,!=4.21.1,!=4.21.2,!=4.21.3,!=4.21.4,!=4.21.5,<5.0.0dev,>=3.20.3 in d:\\anaconda\\lib\\site-packages (from tensorflow-intel==2.17.0->tensorflow) (4.25.5)\n",
      "Requirement already satisfied: tensorboard<2.18,>=2.17 in d:\\anaconda\\lib\\site-packages (from tensorflow-intel==2.17.0->tensorflow) (2.17.1)\n",
      "Requirement already satisfied: libclang>=13.0.0 in d:\\anaconda\\lib\\site-packages (from tensorflow-intel==2.17.0->tensorflow) (18.1.1)\n",
      "Requirement already satisfied: keras>=3.2.0 in d:\\anaconda\\lib\\site-packages (from tensorflow-intel==2.17.0->tensorflow) (3.6.0)\n",
      "Requirement already satisfied: ml-dtypes<0.5.0,>=0.3.1 in d:\\anaconda\\lib\\site-packages (from tensorflow-intel==2.17.0->tensorflow) (0.4.1)\n",
      "Requirement already satisfied: wrapt>=1.11.0 in d:\\anaconda\\lib\\site-packages (from tensorflow-intel==2.17.0->tensorflow) (1.14.1)\n",
      "Requirement already satisfied: requests<3,>=2.21.0 in d:\\anaconda\\lib\\site-packages (from tensorflow-intel==2.17.0->tensorflow) (2.28.1)\n",
      "Requirement already satisfied: flatbuffers>=24.3.25 in d:\\anaconda\\lib\\site-packages (from tensorflow-intel==2.17.0->tensorflow) (24.3.25)\n",
      "Requirement already satisfied: packaging in d:\\anaconda\\lib\\site-packages (from tensorflow-intel==2.17.0->tensorflow) (22.0)\n",
      "Requirement already satisfied: google-pasta>=0.1.1 in d:\\anaconda\\lib\\site-packages (from tensorflow-intel==2.17.0->tensorflow) (0.2.0)\n",
      "Requirement already satisfied: h5py>=3.10.0 in d:\\anaconda\\lib\\site-packages (from tensorflow-intel==2.17.0->tensorflow) (3.12.1)\n",
      "Requirement already satisfied: six>=1.12.0 in d:\\anaconda\\lib\\site-packages (from tensorflow-intel==2.17.0->tensorflow) (1.16.0)\n",
      "Requirement already satisfied: tensorflow-io-gcs-filesystem>=0.23.1 in d:\\anaconda\\lib\\site-packages (from tensorflow-intel==2.17.0->tensorflow) (0.31.0)\n",
      "Requirement already satisfied: typing-extensions>=3.6.6 in d:\\anaconda\\lib\\site-packages (from tensorflow-intel==2.17.0->tensorflow) (4.12.2)\n",
      "Requirement already satisfied: gast!=0.5.0,!=0.5.1,!=0.5.2,>=0.2.1 in d:\\anaconda\\lib\\site-packages (from tensorflow-intel==2.17.0->tensorflow) (0.6.0)\n",
      "Requirement already satisfied: opt-einsum>=2.3.2 in d:\\anaconda\\lib\\site-packages (from tensorflow-intel==2.17.0->tensorflow) (3.4.0)\n",
      "Requirement already satisfied: numpy<2.0.0,>=1.23.5 in d:\\anaconda\\lib\\site-packages (from tensorflow-intel==2.17.0->tensorflow) (1.23.5)\n",
      "Requirement already satisfied: absl-py>=1.0.0 in d:\\anaconda\\lib\\site-packages (from tensorflow-intel==2.17.0->tensorflow) (2.1.0)\n",
      "Requirement already satisfied: astunparse>=1.6.0 in d:\\anaconda\\lib\\site-packages (from tensorflow-intel==2.17.0->tensorflow) (1.6.3)\n",
      "Requirement already satisfied: wheel<1.0,>=0.23.0 in d:\\anaconda\\lib\\site-packages (from astunparse>=1.6.0->tensorflow-intel==2.17.0->tensorflow) (0.38.4)\n",
      "Requirement already satisfied: rich in d:\\anaconda\\lib\\site-packages (from keras>=3.2.0->tensorflow-intel==2.17.0->tensorflow) (13.9.2)\n",
      "Requirement already satisfied: namex in d:\\anaconda\\lib\\site-packages (from keras>=3.2.0->tensorflow-intel==2.17.0->tensorflow) (0.0.8)\n",
      "Requirement already satisfied: optree in d:\\anaconda\\lib\\site-packages (from keras>=3.2.0->tensorflow-intel==2.17.0->tensorflow) (0.13.0)\n",
      "Requirement already satisfied: charset-normalizer<3,>=2 in d:\\anaconda\\lib\\site-packages (from requests<3,>=2.21.0->tensorflow-intel==2.17.0->tensorflow) (2.0.4)\n",
      "Requirement already satisfied: urllib3<1.27,>=1.21.1 in d:\\anaconda\\lib\\site-packages (from requests<3,>=2.21.0->tensorflow-intel==2.17.0->tensorflow) (1.26.14)\n",
      "Requirement already satisfied: certifi>=2017.4.17 in d:\\anaconda\\lib\\site-packages (from requests<3,>=2.21.0->tensorflow-intel==2.17.0->tensorflow) (2022.12.7)\n",
      "Requirement already satisfied: idna<4,>=2.5 in d:\\anaconda\\lib\\site-packages (from requests<3,>=2.21.0->tensorflow-intel==2.17.0->tensorflow) (3.4)\n",
      "Requirement already satisfied: tensorboard-data-server<0.8.0,>=0.7.0 in d:\\anaconda\\lib\\site-packages (from tensorboard<2.18,>=2.17->tensorflow-intel==2.17.0->tensorflow) (0.7.2)\n",
      "Requirement already satisfied: werkzeug>=1.0.1 in d:\\anaconda\\lib\\site-packages (from tensorboard<2.18,>=2.17->tensorflow-intel==2.17.0->tensorflow) (2.2.2)\n",
      "Requirement already satisfied: markdown>=2.6.8 in d:\\anaconda\\lib\\site-packages (from tensorboard<2.18,>=2.17->tensorflow-intel==2.17.0->tensorflow) (3.4.1)\n",
      "Requirement already satisfied: MarkupSafe>=2.1.1 in d:\\anaconda\\lib\\site-packages (from werkzeug>=1.0.1->tensorboard<2.18,>=2.17->tensorflow-intel==2.17.0->tensorflow) (2.1.1)\n",
      "Requirement already satisfied: markdown-it-py>=2.2.0 in d:\\anaconda\\lib\\site-packages (from rich->keras>=3.2.0->tensorflow-intel==2.17.0->tensorflow) (3.0.0)\n",
      "Requirement already satisfied: pygments<3.0.0,>=2.13.0 in d:\\anaconda\\lib\\site-packages (from rich->keras>=3.2.0->tensorflow-intel==2.17.0->tensorflow) (2.18.0)\n",
      "Requirement already satisfied: mdurl~=0.1 in d:\\anaconda\\lib\\site-packages (from markdown-it-py>=2.2.0->rich->keras>=3.2.0->tensorflow-intel==2.17.0->tensorflow) (0.1.2)\n"
     ]
    }
   ],
   "source": [
    "!pip install tensorflow"
   ]
  },
  {
   "cell_type": "code",
   "execution_count": 2,
   "id": "54efe67d",
   "metadata": {},
   "outputs": [],
   "source": [
    "import tensorflow as tf\n",
    "from tensorflow import keras\n",
    "from keras.models import Model,Sequential\n",
    "from keras.layers import Dense,Dropout,LSTM,Bidirectional"
   ]
  },
  {
   "cell_type": "code",
   "execution_count": 5,
   "id": "fd166f7b",
   "metadata": {},
   "outputs": [
    {
     "data": {
      "text/html": [
       "<div>\n",
       "<style scoped>\n",
       "    .dataframe tbody tr th:only-of-type {\n",
       "        vertical-align: middle;\n",
       "    }\n",
       "\n",
       "    .dataframe tbody tr th {\n",
       "        vertical-align: top;\n",
       "    }\n",
       "\n",
       "    .dataframe thead th {\n",
       "        text-align: right;\n",
       "    }\n",
       "</style>\n",
       "<table border=\"1\" class=\"dataframe\">\n",
       "  <thead>\n",
       "    <tr style=\"text-align: right;\">\n",
       "      <th></th>\n",
       "      <th>Date</th>\n",
       "      <th>High</th>\n",
       "      <th>Low</th>\n",
       "      <th>Open</th>\n",
       "      <th>Close</th>\n",
       "      <th>Volume</th>\n",
       "      <th>Adj Close</th>\n",
       "    </tr>\n",
       "  </thead>\n",
       "  <tbody>\n",
       "    <tr>\n",
       "      <th>0</th>\n",
       "      <td>2004-08-23</td>\n",
       "      <td>56.528118</td>\n",
       "      <td>54.321388</td>\n",
       "      <td>55.168217</td>\n",
       "      <td>54.495735</td>\n",
       "      <td>18342897.0</td>\n",
       "      <td>54.495735</td>\n",
       "    </tr>\n",
       "    <tr>\n",
       "      <th>1</th>\n",
       "      <td>2004-08-24</td>\n",
       "      <td>55.591629</td>\n",
       "      <td>51.591621</td>\n",
       "      <td>55.412300</td>\n",
       "      <td>52.239197</td>\n",
       "      <td>15319808.0</td>\n",
       "      <td>52.239197</td>\n",
       "    </tr>\n",
       "    <tr>\n",
       "      <th>2</th>\n",
       "      <td>2004-08-25</td>\n",
       "      <td>53.798351</td>\n",
       "      <td>51.746044</td>\n",
       "      <td>52.284027</td>\n",
       "      <td>52.802086</td>\n",
       "      <td>9232276.0</td>\n",
       "      <td>52.802086</td>\n",
       "    </tr>\n",
       "    <tr>\n",
       "      <th>3</th>\n",
       "      <td>2004-08-26</td>\n",
       "      <td>53.773445</td>\n",
       "      <td>52.134586</td>\n",
       "      <td>52.279045</td>\n",
       "      <td>53.753517</td>\n",
       "      <td>7128620.0</td>\n",
       "      <td>53.753517</td>\n",
       "    </tr>\n",
       "    <tr>\n",
       "      <th>4</th>\n",
       "      <td>2004-08-27</td>\n",
       "      <td>54.107193</td>\n",
       "      <td>52.647663</td>\n",
       "      <td>53.848164</td>\n",
       "      <td>52.876804</td>\n",
       "      <td>6241307.0</td>\n",
       "      <td>52.876804</td>\n",
       "    </tr>\n",
       "  </tbody>\n",
       "</table>\n",
       "</div>"
      ],
      "text/plain": [
       "         Date       High        Low       Open      Close      Volume  \\\n",
       "0  2004-08-23  56.528118  54.321388  55.168217  54.495735  18342897.0   \n",
       "1  2004-08-24  55.591629  51.591621  55.412300  52.239197  15319808.0   \n",
       "2  2004-08-25  53.798351  51.746044  52.284027  52.802086   9232276.0   \n",
       "3  2004-08-26  53.773445  52.134586  52.279045  53.753517   7128620.0   \n",
       "4  2004-08-27  54.107193  52.647663  53.848164  52.876804   6241307.0   \n",
       "\n",
       "   Adj Close  \n",
       "0  54.495735  \n",
       "1  52.239197  \n",
       "2  52.802086  \n",
       "3  53.753517  \n",
       "4  52.876804  "
      ]
     },
     "execution_count": 5,
     "metadata": {},
     "output_type": "execute_result"
    }
   ],
   "source": [
    "import pandas as pd\n",
    "data=pd.read_csv(\"GOOG.csv\")\n",
    "data.head()"
   ]
  },
  {
   "cell_type": "code",
   "execution_count": 10,
   "id": "a9fe6072",
   "metadata": {},
   "outputs": [],
   "source": [
    "data=data[['Date','Open','Close']]\n",
    "data.set_index('Date',drop=True,inplace=True)"
   ]
  },
  {
   "cell_type": "code",
   "execution_count": 11,
   "id": "aaa8cffa",
   "metadata": {},
   "outputs": [
    {
     "data": {
      "text/html": [
       "<div>\n",
       "<style scoped>\n",
       "    .dataframe tbody tr th:only-of-type {\n",
       "        vertical-align: middle;\n",
       "    }\n",
       "\n",
       "    .dataframe tbody tr th {\n",
       "        vertical-align: top;\n",
       "    }\n",
       "\n",
       "    .dataframe thead th {\n",
       "        text-align: right;\n",
       "    }\n",
       "</style>\n",
       "<table border=\"1\" class=\"dataframe\">\n",
       "  <thead>\n",
       "    <tr style=\"text-align: right;\">\n",
       "      <th></th>\n",
       "      <th>Open</th>\n",
       "      <th>Close</th>\n",
       "    </tr>\n",
       "    <tr>\n",
       "      <th>Date</th>\n",
       "      <th></th>\n",
       "      <th></th>\n",
       "    </tr>\n",
       "  </thead>\n",
       "  <tbody>\n",
       "    <tr>\n",
       "      <th>2004-08-23</th>\n",
       "      <td>55.168217</td>\n",
       "      <td>54.495735</td>\n",
       "    </tr>\n",
       "    <tr>\n",
       "      <th>2004-08-24</th>\n",
       "      <td>55.412300</td>\n",
       "      <td>52.239197</td>\n",
       "    </tr>\n",
       "    <tr>\n",
       "      <th>2004-08-25</th>\n",
       "      <td>52.284027</td>\n",
       "      <td>52.802086</td>\n",
       "    </tr>\n",
       "    <tr>\n",
       "      <th>2004-08-26</th>\n",
       "      <td>52.279045</td>\n",
       "      <td>53.753517</td>\n",
       "    </tr>\n",
       "    <tr>\n",
       "      <th>2004-08-27</th>\n",
       "      <td>53.848164</td>\n",
       "      <td>52.876804</td>\n",
       "    </tr>\n",
       "  </tbody>\n",
       "</table>\n",
       "</div>"
      ],
      "text/plain": [
       "                 Open      Close\n",
       "Date                            \n",
       "2004-08-23  55.168217  54.495735\n",
       "2004-08-24  55.412300  52.239197\n",
       "2004-08-25  52.284027  52.802086\n",
       "2004-08-26  52.279045  53.753517\n",
       "2004-08-27  53.848164  52.876804"
      ]
     },
     "execution_count": 11,
     "metadata": {},
     "output_type": "execute_result"
    }
   ],
   "source": [
    "data.head()"
   ]
  },
  {
   "cell_type": "code",
   "execution_count": 12,
   "id": "4165e453",
   "metadata": {},
   "outputs": [],
   "source": [
    "from sklearn.preprocessing import MinMaxScaler\n",
    "MMS=MinMaxScaler()\n",
    "data[data.columns]=MMS.fit_transform(data)"
   ]
  },
  {
   "cell_type": "code",
   "execution_count": 13,
   "id": "26b671ea",
   "metadata": {},
   "outputs": [
    {
     "data": {
      "text/plain": [
       "3296"
      ]
     },
     "execution_count": 13,
     "metadata": {},
     "output_type": "execute_result"
    }
   ],
   "source": [
    "train_size=round(len(data)*0.80)\n",
    "train_size"
   ]
  },
  {
   "cell_type": "code",
   "execution_count": 14,
   "id": "88f2f778",
   "metadata": {},
   "outputs": [
    {
     "data": {
      "text/plain": [
       "((3296, 2), (824, 2))"
      ]
     },
     "execution_count": 14,
     "metadata": {},
     "output_type": "execute_result"
    }
   ],
   "source": [
    "train_data=data[:train_size]\n",
    "test_data=data[train_size:]\n",
    "\n",
    "train_data.shape,test_data.shape"
   ]
  },
  {
   "cell_type": "code",
   "execution_count": 17,
   "id": "32690a71",
   "metadata": {},
   "outputs": [],
   "source": [
    "import numpy as np"
   ]
  },
  {
   "cell_type": "code",
   "execution_count": 23,
   "id": "41a49293",
   "metadata": {},
   "outputs": [],
   "source": [
    "def create_sequence(dataset):\n",
    "    sequences=[]\n",
    "    labels=[]\n",
    "    start=0\n",
    "    for stop in range(50,len(dataset)):\n",
    "        sequences.append(dataset.iloc[start:stop])\n",
    "        labels.append(dataset.iloc[stop])\n",
    "        start+=1\n",
    "    return (np.array(sequences),np.array(labels))"
   ]
  },
  {
   "cell_type": "code",
   "execution_count": 24,
   "id": "de830d16",
   "metadata": {},
   "outputs": [
    {
     "data": {
      "text/plain": [
       "((3246, 50, 2), (3246, 2), (774, 50, 2), (774, 2))"
      ]
     },
     "execution_count": 24,
     "metadata": {},
     "output_type": "execute_result"
    }
   ],
   "source": [
    "train_seq,train_lab=create_sequence(train_data)\n",
    "test_seq,test_lab=create_sequence(test_data)\n",
    "\n",
    "train_seq.shape,train_lab.shape,test_seq.shape,test_lab.shape"
   ]
  },
  {
   "cell_type": "code",
   "execution_count": 25,
   "id": "9f38a084",
   "metadata": {},
   "outputs": [
    {
     "name": "stderr",
     "output_type": "stream",
     "text": [
      "D:\\anaconda\\lib\\site-packages\\keras\\src\\layers\\rnn\\rnn.py:204: UserWarning: Do not pass an `input_shape`/`input_dim` argument to a layer. When using Sequential models, prefer using an `Input(shape)` object as the first layer in the model instead.\n",
      "  super().__init__(**kwargs)\n"
     ]
    }
   ],
   "source": [
    "model=Sequential()\n",
    "model.add(LSTM(units=50,return_sequences=True,input_shape=(train_seq.shape[1],train_seq.shape[2])))\n",
    "model.add(Dropout(0.1))\n",
    "model.add(LSTM(units=50))\n",
    "model.add(Dense(2))"
   ]
  },
  {
   "cell_type": "code",
   "execution_count": 26,
   "id": "7106ea47",
   "metadata": {},
   "outputs": [],
   "source": [
    "model.compile(loss='mean_squared_error',optimizer='adam',metrics=['mean_absolute_error'])"
   ]
  },
  {
   "cell_type": "code",
   "execution_count": 27,
   "id": "c25e6cb3",
   "metadata": {},
   "outputs": [
    {
     "name": "stdout",
     "output_type": "stream",
     "text": [
      "Epoch 1/80\n",
      "\u001b[1m102/102\u001b[0m \u001b[32m━━━━━━━━━━━━━━━━━━━━\u001b[0m\u001b[37m\u001b[0m \u001b[1m11s\u001b[0m 43ms/step - loss: 0.0052 - mean_absolute_error: 0.0421 - val_loss: 0.0011 - val_mean_absolute_error: 0.0240\n",
      "Epoch 2/80\n",
      "\u001b[1m102/102\u001b[0m \u001b[32m━━━━━━━━━━━━━━━━━━━━\u001b[0m\u001b[37m\u001b[0m \u001b[1m4s\u001b[0m 36ms/step - loss: 1.1416e-04 - mean_absolute_error: 0.0077 - val_loss: 0.0019 - val_mean_absolute_error: 0.0344\n",
      "Epoch 3/80\n",
      "\u001b[1m102/102\u001b[0m \u001b[32m━━━━━━━━━━━━━━━━━━━━\u001b[0m\u001b[37m\u001b[0m \u001b[1m5s\u001b[0m 37ms/step - loss: 1.1978e-04 - mean_absolute_error: 0.0078 - val_loss: 0.0012 - val_mean_absolute_error: 0.0255\n",
      "Epoch 4/80\n",
      "\u001b[1m102/102\u001b[0m \u001b[32m━━━━━━━━━━━━━━━━━━━━\u001b[0m\u001b[37m\u001b[0m \u001b[1m4s\u001b[0m 37ms/step - loss: 9.4969e-05 - mean_absolute_error: 0.0071 - val_loss: 0.0016 - val_mean_absolute_error: 0.0302\n",
      "Epoch 5/80\n",
      "\u001b[1m102/102\u001b[0m \u001b[32m━━━━━━━━━━━━━━━━━━━━\u001b[0m\u001b[37m\u001b[0m \u001b[1m4s\u001b[0m 38ms/step - loss: 1.0259e-04 - mean_absolute_error: 0.0072 - val_loss: 0.0015 - val_mean_absolute_error: 0.0300\n",
      "Epoch 6/80\n",
      "\u001b[1m102/102\u001b[0m \u001b[32m━━━━━━━━━━━━━━━━━━━━\u001b[0m\u001b[37m\u001b[0m \u001b[1m6s\u001b[0m 49ms/step - loss: 1.0342e-04 - mean_absolute_error: 0.0072 - val_loss: 0.0015 - val_mean_absolute_error: 0.0303\n",
      "Epoch 7/80\n",
      "\u001b[1m102/102\u001b[0m \u001b[32m━━━━━━━━━━━━━━━━━━━━\u001b[0m\u001b[37m\u001b[0m \u001b[1m5s\u001b[0m 50ms/step - loss: 9.8495e-05 - mean_absolute_error: 0.0071 - val_loss: 0.0015 - val_mean_absolute_error: 0.0302\n",
      "Epoch 8/80\n",
      "\u001b[1m102/102\u001b[0m \u001b[32m━━━━━━━━━━━━━━━━━━━━\u001b[0m\u001b[37m\u001b[0m \u001b[1m6s\u001b[0m 61ms/step - loss: 8.5416e-05 - mean_absolute_error: 0.0067 - val_loss: 0.0010 - val_mean_absolute_error: 0.0243\n",
      "Epoch 9/80\n",
      "\u001b[1m102/102\u001b[0m \u001b[32m━━━━━━━━━━━━━━━━━━━━\u001b[0m\u001b[37m\u001b[0m \u001b[1m9s\u001b[0m 50ms/step - loss: 8.6501e-05 - mean_absolute_error: 0.0067 - val_loss: 0.0010 - val_mean_absolute_error: 0.0239\n",
      "Epoch 10/80\n",
      "\u001b[1m102/102\u001b[0m \u001b[32m━━━━━━━━━━━━━━━━━━━━\u001b[0m\u001b[37m\u001b[0m \u001b[1m5s\u001b[0m 50ms/step - loss: 8.9925e-05 - mean_absolute_error: 0.0066 - val_loss: 0.0023 - val_mean_absolute_error: 0.0402\n",
      "Epoch 11/80\n",
      "\u001b[1m102/102\u001b[0m \u001b[32m━━━━━━━━━━━━━━━━━━━━\u001b[0m\u001b[37m\u001b[0m \u001b[1m5s\u001b[0m 51ms/step - loss: 9.4228e-05 - mean_absolute_error: 0.0070 - val_loss: 0.0012 - val_mean_absolute_error: 0.0271\n",
      "Epoch 12/80\n",
      "\u001b[1m102/102\u001b[0m \u001b[32m━━━━━━━━━━━━━━━━━━━━\u001b[0m\u001b[37m\u001b[0m \u001b[1m6s\u001b[0m 56ms/step - loss: 7.1876e-05 - mean_absolute_error: 0.0061 - val_loss: 0.0011 - val_mean_absolute_error: 0.0251\n",
      "Epoch 13/80\n",
      "\u001b[1m102/102\u001b[0m \u001b[32m━━━━━━━━━━━━━━━━━━━━\u001b[0m\u001b[37m\u001b[0m \u001b[1m10s\u001b[0m 48ms/step - loss: 8.2358e-05 - mean_absolute_error: 0.0065 - val_loss: 0.0019 - val_mean_absolute_error: 0.0354\n",
      "Epoch 14/80\n",
      "\u001b[1m102/102\u001b[0m \u001b[32m━━━━━━━━━━━━━━━━━━━━\u001b[0m\u001b[37m\u001b[0m \u001b[1m6s\u001b[0m 54ms/step - loss: 7.6674e-05 - mean_absolute_error: 0.0063 - val_loss: 7.7564e-04 - val_mean_absolute_error: 0.0207\n",
      "Epoch 15/80\n",
      "\u001b[1m102/102\u001b[0m \u001b[32m━━━━━━━━━━━━━━━━━━━━\u001b[0m\u001b[37m\u001b[0m \u001b[1m6s\u001b[0m 57ms/step - loss: 6.8152e-05 - mean_absolute_error: 0.0059 - val_loss: 9.6272e-04 - val_mean_absolute_error: 0.0240\n",
      "Epoch 16/80\n",
      "\u001b[1m102/102\u001b[0m \u001b[32m━━━━━━━━━━━━━━━━━━━━\u001b[0m\u001b[37m\u001b[0m \u001b[1m6s\u001b[0m 59ms/step - loss: 6.8245e-05 - mean_absolute_error: 0.0059 - val_loss: 6.2012e-04 - val_mean_absolute_error: 0.0183\n",
      "Epoch 17/80\n",
      "\u001b[1m102/102\u001b[0m \u001b[32m━━━━━━━━━━━━━━━━━━━━\u001b[0m\u001b[37m\u001b[0m \u001b[1m10s\u001b[0m 53ms/step - loss: 9.8131e-05 - mean_absolute_error: 0.0072 - val_loss: 6.8895e-04 - val_mean_absolute_error: 0.0195\n",
      "Epoch 18/80\n",
      "\u001b[1m102/102\u001b[0m \u001b[32m━━━━━━━━━━━━━━━━━━━━\u001b[0m\u001b[37m\u001b[0m \u001b[1m5s\u001b[0m 52ms/step - loss: 6.0731e-05 - mean_absolute_error: 0.0056 - val_loss: 8.7884e-04 - val_mean_absolute_error: 0.0230\n",
      "Epoch 19/80\n",
      "\u001b[1m102/102\u001b[0m \u001b[32m━━━━━━━━━━━━━━━━━━━━\u001b[0m\u001b[37m\u001b[0m \u001b[1m5s\u001b[0m 52ms/step - loss: 6.1745e-05 - mean_absolute_error: 0.0057 - val_loss: 7.7679e-04 - val_mean_absolute_error: 0.0211\n",
      "Epoch 20/80\n",
      "\u001b[1m102/102\u001b[0m \u001b[32m━━━━━━━━━━━━━━━━━━━━\u001b[0m\u001b[37m\u001b[0m \u001b[1m10s\u001b[0m 52ms/step - loss: 6.1820e-05 - mean_absolute_error: 0.0055 - val_loss: 0.0017 - val_mean_absolute_error: 0.0349\n",
      "Epoch 21/80\n",
      "\u001b[1m102/102\u001b[0m \u001b[32m━━━━━━━━━━━━━━━━━━━━\u001b[0m\u001b[37m\u001b[0m \u001b[1m9s\u001b[0m 42ms/step - loss: 6.2659e-05 - mean_absolute_error: 0.0057 - val_loss: 0.0011 - val_mean_absolute_error: 0.0265\n",
      "Epoch 22/80\n",
      "\u001b[1m102/102\u001b[0m \u001b[32m━━━━━━━━━━━━━━━━━━━━\u001b[0m\u001b[37m\u001b[0m \u001b[1m5s\u001b[0m 47ms/step - loss: 7.0551e-05 - mean_absolute_error: 0.0057 - val_loss: 5.8037e-04 - val_mean_absolute_error: 0.0179\n",
      "Epoch 23/80\n",
      "\u001b[1m102/102\u001b[0m \u001b[32m━━━━━━━━━━━━━━━━━━━━\u001b[0m\u001b[37m\u001b[0m \u001b[1m5s\u001b[0m 50ms/step - loss: 5.9760e-05 - mean_absolute_error: 0.0054 - val_loss: 5.3433e-04 - val_mean_absolute_error: 0.0170\n",
      "Epoch 24/80\n",
      "\u001b[1m102/102\u001b[0m \u001b[32m━━━━━━━━━━━━━━━━━━━━\u001b[0m\u001b[37m\u001b[0m \u001b[1m6s\u001b[0m 55ms/step - loss: 5.9840e-05 - mean_absolute_error: 0.0056 - val_loss: 9.1769e-04 - val_mean_absolute_error: 0.0237\n",
      "Epoch 25/80\n",
      "\u001b[1m102/102\u001b[0m \u001b[32m━━━━━━━━━━━━━━━━━━━━\u001b[0m\u001b[37m\u001b[0m \u001b[1m10s\u001b[0m 52ms/step - loss: 5.6732e-05 - mean_absolute_error: 0.0055 - val_loss: 5.0895e-04 - val_mean_absolute_error: 0.0166\n",
      "Epoch 26/80\n",
      "\u001b[1m102/102\u001b[0m \u001b[32m━━━━━━━━━━━━━━━━━━━━\u001b[0m\u001b[37m\u001b[0m \u001b[1m5s\u001b[0m 49ms/step - loss: 5.9964e-05 - mean_absolute_error: 0.0055 - val_loss: 6.8099e-04 - val_mean_absolute_error: 0.0197\n",
      "Epoch 27/80\n",
      "\u001b[1m102/102\u001b[0m \u001b[32m━━━━━━━━━━━━━━━━━━━━\u001b[0m\u001b[37m\u001b[0m \u001b[1m6s\u001b[0m 57ms/step - loss: 6.2525e-05 - mean_absolute_error: 0.0057 - val_loss: 5.5533e-04 - val_mean_absolute_error: 0.0174\n",
      "Epoch 28/80\n",
      "\u001b[1m102/102\u001b[0m \u001b[32m━━━━━━━━━━━━━━━━━━━━\u001b[0m\u001b[37m\u001b[0m \u001b[1m6s\u001b[0m 60ms/step - loss: 5.0491e-05 - mean_absolute_error: 0.0051 - val_loss: 6.8944e-04 - val_mean_absolute_error: 0.0201\n",
      "Epoch 29/80\n",
      "\u001b[1m102/102\u001b[0m \u001b[32m━━━━━━━━━━━━━━━━━━━━\u001b[0m\u001b[37m\u001b[0m \u001b[1m7s\u001b[0m 70ms/step - loss: 5.6331e-05 - mean_absolute_error: 0.0054 - val_loss: 5.4442e-04 - val_mean_absolute_error: 0.0174\n",
      "Epoch 30/80\n",
      "\u001b[1m102/102\u001b[0m \u001b[32m━━━━━━━━━━━━━━━━━━━━\u001b[0m\u001b[37m\u001b[0m \u001b[1m8s\u001b[0m 73ms/step - loss: 5.6682e-05 - mean_absolute_error: 0.0054 - val_loss: 4.5588e-04 - val_mean_absolute_error: 0.0156\n",
      "Epoch 31/80\n",
      "\u001b[1m102/102\u001b[0m \u001b[32m━━━━━━━━━━━━━━━━━━━━\u001b[0m\u001b[37m\u001b[0m \u001b[1m9s\u001b[0m 60ms/step - loss: 5.7443e-05 - mean_absolute_error: 0.0054 - val_loss: 0.0012 - val_mean_absolute_error: 0.0279\n",
      "Epoch 32/80\n",
      "\u001b[1m102/102\u001b[0m \u001b[32m━━━━━━━━━━━━━━━━━━━━\u001b[0m\u001b[37m\u001b[0m \u001b[1m7s\u001b[0m 67ms/step - loss: 5.5631e-05 - mean_absolute_error: 0.0053 - val_loss: 5.2728e-04 - val_mean_absolute_error: 0.0172\n",
      "Epoch 33/80\n",
      "\u001b[1m102/102\u001b[0m \u001b[32m━━━━━━━━━━━━━━━━━━━━\u001b[0m\u001b[37m\u001b[0m \u001b[1m8s\u001b[0m 75ms/step - loss: 5.5832e-05 - mean_absolute_error: 0.0052 - val_loss: 6.5435e-04 - val_mean_absolute_error: 0.0195\n",
      "Epoch 34/80\n",
      "\u001b[1m102/102\u001b[0m \u001b[32m━━━━━━━━━━━━━━━━━━━━\u001b[0m\u001b[37m\u001b[0m \u001b[1m9s\u001b[0m 65ms/step - loss: 6.0411e-05 - mean_absolute_error: 0.0054 - val_loss: 7.4477e-04 - val_mean_absolute_error: 0.0213\n",
      "Epoch 35/80\n",
      "\u001b[1m102/102\u001b[0m \u001b[32m━━━━━━━━━━━━━━━━━━━━\u001b[0m\u001b[37m\u001b[0m \u001b[1m7s\u001b[0m 67ms/step - loss: 6.5723e-05 - mean_absolute_error: 0.0059 - val_loss: 4.5487e-04 - val_mean_absolute_error: 0.0158\n",
      "Epoch 36/80\n",
      "\u001b[1m102/102\u001b[0m \u001b[32m━━━━━━━━━━━━━━━━━━━━\u001b[0m\u001b[37m\u001b[0m \u001b[1m9s\u001b[0m 58ms/step - loss: 4.9572e-05 - mean_absolute_error: 0.0049 - val_loss: 6.1450e-04 - val_mean_absolute_error: 0.0187\n",
      "Epoch 37/80\n",
      "\u001b[1m102/102\u001b[0m \u001b[32m━━━━━━━━━━━━━━━━━━━━\u001b[0m\u001b[37m\u001b[0m \u001b[1m7s\u001b[0m 64ms/step - loss: 4.7562e-05 - mean_absolute_error: 0.0049 - val_loss: 8.1051e-04 - val_mean_absolute_error: 0.0220\n",
      "Epoch 38/80\n",
      "\u001b[1m102/102\u001b[0m \u001b[32m━━━━━━━━━━━━━━━━━━━━\u001b[0m\u001b[37m\u001b[0m \u001b[1m9s\u001b[0m 53ms/step - loss: 4.1584e-05 - mean_absolute_error: 0.0046 - val_loss: 4.0767e-04 - val_mean_absolute_error: 0.0147\n",
      "Epoch 39/80\n",
      "\u001b[1m102/102\u001b[0m \u001b[32m━━━━━━━━━━━━━━━━━━━━\u001b[0m\u001b[37m\u001b[0m \u001b[1m6s\u001b[0m 55ms/step - loss: 5.0016e-05 - mean_absolute_error: 0.0050 - val_loss: 5.1304e-04 - val_mean_absolute_error: 0.0168\n",
      "Epoch 40/80\n",
      "\u001b[1m102/102\u001b[0m \u001b[32m━━━━━━━━━━━━━━━━━━━━\u001b[0m\u001b[37m\u001b[0m \u001b[1m6s\u001b[0m 62ms/step - loss: 5.4294e-05 - mean_absolute_error: 0.0053 - val_loss: 6.3205e-04 - val_mean_absolute_error: 0.0193\n",
      "Epoch 41/80\n",
      "\u001b[1m102/102\u001b[0m \u001b[32m━━━━━━━━━━━━━━━━━━━━\u001b[0m\u001b[37m\u001b[0m \u001b[1m6s\u001b[0m 63ms/step - loss: 4.3871e-05 - mean_absolute_error: 0.0047 - val_loss: 5.3514e-04 - val_mean_absolute_error: 0.0171\n",
      "Epoch 42/80\n",
      "\u001b[1m102/102\u001b[0m \u001b[32m━━━━━━━━━━━━━━━━━━━━\u001b[0m\u001b[37m\u001b[0m \u001b[1m9s\u001b[0m 55ms/step - loss: 4.0877e-05 - mean_absolute_error: 0.0045 - val_loss: 9.9886e-04 - val_mean_absolute_error: 0.0251\n",
      "Epoch 43/80\n"
     ]
    },
    {
     "name": "stdout",
     "output_type": "stream",
     "text": [
      "\u001b[1m102/102\u001b[0m \u001b[32m━━━━━━━━━━━━━━━━━━━━\u001b[0m\u001b[37m\u001b[0m \u001b[1m6s\u001b[0m 60ms/step - loss: 4.0249e-05 - mean_absolute_error: 0.0046 - val_loss: 3.8640e-04 - val_mean_absolute_error: 0.0144\n",
      "Epoch 44/80\n",
      "\u001b[1m102/102\u001b[0m \u001b[32m━━━━━━━━━━━━━━━━━━━━\u001b[0m\u001b[37m\u001b[0m \u001b[1m10s\u001b[0m 59ms/step - loss: 4.9554e-05 - mean_absolute_error: 0.0050 - val_loss: 9.2288e-04 - val_mean_absolute_error: 0.0239\n",
      "Epoch 45/80\n",
      "\u001b[1m102/102\u001b[0m \u001b[32m━━━━━━━━━━━━━━━━━━━━\u001b[0m\u001b[37m\u001b[0m \u001b[1m7s\u001b[0m 64ms/step - loss: 4.2360e-05 - mean_absolute_error: 0.0047 - val_loss: 7.3844e-04 - val_mean_absolute_error: 0.0216\n",
      "Epoch 46/80\n",
      "\u001b[1m102/102\u001b[0m \u001b[32m━━━━━━━━━━━━━━━━━━━━\u001b[0m\u001b[37m\u001b[0m \u001b[1m9s\u001b[0m 53ms/step - loss: 3.8582e-05 - mean_absolute_error: 0.0044 - val_loss: 6.3553e-04 - val_mean_absolute_error: 0.0192\n",
      "Epoch 47/80\n",
      "\u001b[1m102/102\u001b[0m \u001b[32m━━━━━━━━━━━━━━━━━━━━\u001b[0m\u001b[37m\u001b[0m \u001b[1m10s\u001b[0m 48ms/step - loss: 4.0128e-05 - mean_absolute_error: 0.0045 - val_loss: 8.8441e-04 - val_mean_absolute_error: 0.0235\n",
      "Epoch 48/80\n",
      "\u001b[1m102/102\u001b[0m \u001b[32m━━━━━━━━━━━━━━━━━━━━\u001b[0m\u001b[37m\u001b[0m \u001b[1m7s\u001b[0m 62ms/step - loss: 3.7237e-05 - mean_absolute_error: 0.0043 - val_loss: 7.0800e-04 - val_mean_absolute_error: 0.0209\n",
      "Epoch 49/80\n",
      "\u001b[1m102/102\u001b[0m \u001b[32m━━━━━━━━━━━━━━━━━━━━\u001b[0m\u001b[37m\u001b[0m \u001b[1m10s\u001b[0m 58ms/step - loss: 3.6166e-05 - mean_absolute_error: 0.0043 - val_loss: 0.0013 - val_mean_absolute_error: 0.0302\n",
      "Epoch 50/80\n",
      "\u001b[1m102/102\u001b[0m \u001b[32m━━━━━━━━━━━━━━━━━━━━\u001b[0m\u001b[37m\u001b[0m \u001b[1m10s\u001b[0m 55ms/step - loss: 4.2933e-05 - mean_absolute_error: 0.0047 - val_loss: 5.6091e-04 - val_mean_absolute_error: 0.0174\n",
      "Epoch 51/80\n",
      "\u001b[1m102/102\u001b[0m \u001b[32m━━━━━━━━━━━━━━━━━━━━\u001b[0m\u001b[37m\u001b[0m \u001b[1m12s\u001b[0m 74ms/step - loss: 3.5766e-05 - mean_absolute_error: 0.0043 - val_loss: 6.2814e-04 - val_mean_absolute_error: 0.0185\n",
      "Epoch 52/80\n",
      "\u001b[1m102/102\u001b[0m \u001b[32m━━━━━━━━━━━━━━━━━━━━\u001b[0m\u001b[37m\u001b[0m \u001b[1m7s\u001b[0m 73ms/step - loss: 3.2486e-05 - mean_absolute_error: 0.0041 - val_loss: 8.3248e-04 - val_mean_absolute_error: 0.0222\n",
      "Epoch 53/80\n",
      "\u001b[1m102/102\u001b[0m \u001b[32m━━━━━━━━━━━━━━━━━━━━\u001b[0m\u001b[37m\u001b[0m \u001b[1m13s\u001b[0m 96ms/step - loss: 3.2732e-05 - mean_absolute_error: 0.0041 - val_loss: 4.0198e-04 - val_mean_absolute_error: 0.0143\n",
      "Epoch 54/80\n",
      "\u001b[1m102/102\u001b[0m \u001b[32m━━━━━━━━━━━━━━━━━━━━\u001b[0m\u001b[37m\u001b[0m \u001b[1m10s\u001b[0m 93ms/step - loss: 3.6738e-05 - mean_absolute_error: 0.0044 - val_loss: 4.9345e-04 - val_mean_absolute_error: 0.0159\n",
      "Epoch 55/80\n",
      "\u001b[1m102/102\u001b[0m \u001b[32m━━━━━━━━━━━━━━━━━━━━\u001b[0m\u001b[37m\u001b[0m \u001b[1m11s\u001b[0m 94ms/step - loss: 3.2442e-05 - mean_absolute_error: 0.0040 - val_loss: 5.1967e-04 - val_mean_absolute_error: 0.0160\n",
      "Epoch 56/80\n",
      "\u001b[1m102/102\u001b[0m \u001b[32m━━━━━━━━━━━━━━━━━━━━\u001b[0m\u001b[37m\u001b[0m \u001b[1m9s\u001b[0m 83ms/step - loss: 3.3313e-05 - mean_absolute_error: 0.0040 - val_loss: 5.8480e-04 - val_mean_absolute_error: 0.0176\n",
      "Epoch 57/80\n",
      "\u001b[1m102/102\u001b[0m \u001b[32m━━━━━━━━━━━━━━━━━━━━\u001b[0m\u001b[37m\u001b[0m \u001b[1m9s\u001b[0m 70ms/step - loss: 2.9344e-05 - mean_absolute_error: 0.0038 - val_loss: 3.9928e-04 - val_mean_absolute_error: 0.0141\n",
      "Epoch 58/80\n",
      "\u001b[1m102/102\u001b[0m \u001b[32m━━━━━━━━━━━━━━━━━━━━\u001b[0m\u001b[37m\u001b[0m \u001b[1m8s\u001b[0m 80ms/step - loss: 3.0202e-05 - mean_absolute_error: 0.0037 - val_loss: 5.0640e-04 - val_mean_absolute_error: 0.0160\n",
      "Epoch 59/80\n",
      "\u001b[1m102/102\u001b[0m \u001b[32m━━━━━━━━━━━━━━━━━━━━\u001b[0m\u001b[37m\u001b[0m \u001b[1m7s\u001b[0m 73ms/step - loss: 2.9889e-05 - mean_absolute_error: 0.0038 - val_loss: 5.1794e-04 - val_mean_absolute_error: 0.0160\n",
      "Epoch 60/80\n",
      "\u001b[1m102/102\u001b[0m \u001b[32m━━━━━━━━━━━━━━━━━━━━\u001b[0m\u001b[37m\u001b[0m \u001b[1m10s\u001b[0m 66ms/step - loss: 2.9461e-05 - mean_absolute_error: 0.0038 - val_loss: 8.6481e-04 - val_mean_absolute_error: 0.0225\n",
      "Epoch 61/80\n",
      "\u001b[1m102/102\u001b[0m \u001b[32m━━━━━━━━━━━━━━━━━━━━\u001b[0m\u001b[37m\u001b[0m \u001b[1m8s\u001b[0m 78ms/step - loss: 2.8224e-05 - mean_absolute_error: 0.0037 - val_loss: 3.3261e-04 - val_mean_absolute_error: 0.0128\n",
      "Epoch 62/80\n",
      "\u001b[1m102/102\u001b[0m \u001b[32m━━━━━━━━━━━━━━━━━━━━\u001b[0m\u001b[37m\u001b[0m \u001b[1m10s\u001b[0m 78ms/step - loss: 3.5019e-05 - mean_absolute_error: 0.0042 - val_loss: 4.6912e-04 - val_mean_absolute_error: 0.0151\n",
      "Epoch 63/80\n",
      "\u001b[1m102/102\u001b[0m \u001b[32m━━━━━━━━━━━━━━━━━━━━\u001b[0m\u001b[37m\u001b[0m \u001b[1m11s\u001b[0m 84ms/step - loss: 2.8967e-05 - mean_absolute_error: 0.0038 - val_loss: 5.1178e-04 - val_mean_absolute_error: 0.0163\n",
      "Epoch 64/80\n",
      "\u001b[1m102/102\u001b[0m \u001b[32m━━━━━━━━━━━━━━━━━━━━\u001b[0m\u001b[37m\u001b[0m \u001b[1m10s\u001b[0m 84ms/step - loss: 2.6202e-05 - mean_absolute_error: 0.0036 - val_loss: 2.8493e-04 - val_mean_absolute_error: 0.0119\n",
      "Epoch 65/80\n",
      "\u001b[1m102/102\u001b[0m \u001b[32m━━━━━━━━━━━━━━━━━━━━\u001b[0m\u001b[37m\u001b[0m \u001b[1m11s\u001b[0m 84ms/step - loss: 2.8682e-05 - mean_absolute_error: 0.0038 - val_loss: 4.9414e-04 - val_mean_absolute_error: 0.0163\n",
      "Epoch 66/80\n",
      "\u001b[1m102/102\u001b[0m \u001b[32m━━━━━━━━━━━━━━━━━━━━\u001b[0m\u001b[37m\u001b[0m \u001b[1m8s\u001b[0m 78ms/step - loss: 2.5164e-05 - mean_absolute_error: 0.0035 - val_loss: 9.7718e-04 - val_mean_absolute_error: 0.0259\n",
      "Epoch 67/80\n",
      "\u001b[1m102/102\u001b[0m \u001b[32m━━━━━━━━━━━━━━━━━━━━\u001b[0m\u001b[37m\u001b[0m \u001b[1m7s\u001b[0m 65ms/step - loss: 2.7200e-05 - mean_absolute_error: 0.0037 - val_loss: 5.4071e-04 - val_mean_absolute_error: 0.0179\n",
      "Epoch 68/80\n",
      "\u001b[1m102/102\u001b[0m \u001b[32m━━━━━━━━━━━━━━━━━━━━\u001b[0m\u001b[37m\u001b[0m \u001b[1m7s\u001b[0m 65ms/step - loss: 3.2821e-05 - mean_absolute_error: 0.0041 - val_loss: 0.0011 - val_mean_absolute_error: 0.0278\n",
      "Epoch 69/80\n",
      "\u001b[1m102/102\u001b[0m \u001b[32m━━━━━━━━━━━━━━━━━━━━\u001b[0m\u001b[37m\u001b[0m \u001b[1m6s\u001b[0m 63ms/step - loss: 2.8933e-05 - mean_absolute_error: 0.0038 - val_loss: 5.7465e-04 - val_mean_absolute_error: 0.0169\n",
      "Epoch 70/80\n",
      "\u001b[1m102/102\u001b[0m \u001b[32m━━━━━━━━━━━━━━━━━━━━\u001b[0m\u001b[37m\u001b[0m \u001b[1m9s\u001b[0m 52ms/step - loss: 3.1685e-05 - mean_absolute_error: 0.0041 - val_loss: 3.2187e-04 - val_mean_absolute_error: 0.0124\n",
      "Epoch 71/80\n",
      "\u001b[1m102/102\u001b[0m \u001b[32m━━━━━━━━━━━━━━━━━━━━\u001b[0m\u001b[37m\u001b[0m \u001b[1m6s\u001b[0m 57ms/step - loss: 2.1819e-05 - mean_absolute_error: 0.0032 - val_loss: 3.5132e-04 - val_mean_absolute_error: 0.0129\n",
      "Epoch 72/80\n",
      "\u001b[1m102/102\u001b[0m \u001b[32m━━━━━━━━━━━━━━━━━━━━\u001b[0m\u001b[37m\u001b[0m \u001b[1m6s\u001b[0m 57ms/step - loss: 2.6610e-05 - mean_absolute_error: 0.0036 - val_loss: 0.0010 - val_mean_absolute_error: 0.0274\n",
      "Epoch 73/80\n",
      "\u001b[1m102/102\u001b[0m \u001b[32m━━━━━━━━━━━━━━━━━━━━\u001b[0m\u001b[37m\u001b[0m \u001b[1m7s\u001b[0m 66ms/step - loss: 3.3830e-05 - mean_absolute_error: 0.0041 - val_loss: 3.3543e-04 - val_mean_absolute_error: 0.0124\n",
      "Epoch 74/80\n",
      "\u001b[1m102/102\u001b[0m \u001b[32m━━━━━━━━━━━━━━━━━━━━\u001b[0m\u001b[37m\u001b[0m \u001b[1m9s\u001b[0m 48ms/step - loss: 2.7721e-05 - mean_absolute_error: 0.0037 - val_loss: 4.5714e-04 - val_mean_absolute_error: 0.0169\n",
      "Epoch 75/80\n",
      "\u001b[1m102/102\u001b[0m \u001b[32m━━━━━━━━━━━━━━━━━━━━\u001b[0m\u001b[37m\u001b[0m \u001b[1m5s\u001b[0m 52ms/step - loss: 2.3799e-05 - mean_absolute_error: 0.0034 - val_loss: 3.7095e-04 - val_mean_absolute_error: 0.0131\n",
      "Epoch 76/80\n",
      "\u001b[1m102/102\u001b[0m \u001b[32m━━━━━━━━━━━━━━━━━━━━\u001b[0m\u001b[37m\u001b[0m \u001b[1m6s\u001b[0m 56ms/step - loss: 1.7710e-05 - mean_absolute_error: 0.0030 - val_loss: 0.0012 - val_mean_absolute_error: 0.0289\n",
      "Epoch 77/80\n",
      "\u001b[1m102/102\u001b[0m \u001b[32m━━━━━━━━━━━━━━━━━━━━\u001b[0m\u001b[37m\u001b[0m \u001b[1m6s\u001b[0m 55ms/step - loss: 2.5859e-05 - mean_absolute_error: 0.0036 - val_loss: 7.0141e-04 - val_mean_absolute_error: 0.0195\n",
      "Epoch 78/80\n",
      "\u001b[1m102/102\u001b[0m \u001b[32m━━━━━━━━━━━━━━━━━━━━\u001b[0m\u001b[37m\u001b[0m \u001b[1m6s\u001b[0m 62ms/step - loss: 2.1067e-05 - mean_absolute_error: 0.0032 - val_loss: 9.5503e-04 - val_mean_absolute_error: 0.0235\n",
      "Epoch 79/80\n",
      "\u001b[1m102/102\u001b[0m \u001b[32m━━━━━━━━━━━━━━━━━━━━\u001b[0m\u001b[37m\u001b[0m \u001b[1m10s\u001b[0m 56ms/step - loss: 2.4288e-05 - mean_absolute_error: 0.0034 - val_loss: 6.9531e-04 - val_mean_absolute_error: 0.0204\n",
      "Epoch 80/80\n",
      "\u001b[1m102/102\u001b[0m \u001b[32m━━━━━━━━━━━━━━━━━━━━\u001b[0m\u001b[37m\u001b[0m \u001b[1m9s\u001b[0m 87ms/step - loss: 3.0913e-05 - mean_absolute_error: 0.0039 - val_loss: 2.2326e-04 - val_mean_absolute_error: 0.0105\n"
     ]
    },
    {
     "data": {
      "text/plain": [
       "<keras.src.callbacks.history.History at 0x2293e1ea3e0>"
      ]
     },
     "execution_count": 27,
     "metadata": {},
     "output_type": "execute_result"
    }
   ],
   "source": [
    "model.fit(train_seq,train_lab,epochs=80,validation_data=(test_seq,test_lab),verbose=1)"
   ]
  },
  {
   "cell_type": "code",
   "execution_count": 28,
   "id": "e07134dc",
   "metadata": {},
   "outputs": [
    {
     "name": "stdout",
     "output_type": "stream",
     "text": [
      "\u001b[1m25/25\u001b[0m \u001b[32m━━━━━━━━━━━━━━━━━━━━\u001b[0m\u001b[37m\u001b[0m \u001b[1m2s\u001b[0m 37ms/step\n"
     ]
    },
    {
     "data": {
      "text/plain": [
       "array([[0.53948   , 0.5345527 ],\n",
       "       [0.54003185, 0.5351363 ],\n",
       "       [0.5463924 , 0.5414112 ],\n",
       "       ...,\n",
       "       [0.9536718 , 0.94277114],\n",
       "       [0.9479472 , 0.93633044],\n",
       "       [0.93501765, 0.9231583 ]], dtype=float32)"
      ]
     },
     "execution_count": 28,
     "metadata": {},
     "output_type": "execute_result"
    }
   ],
   "source": [
    "y_pred=model.predict(test_seq)\n",
    "y_pred"
   ]
  },
  {
   "cell_type": "code",
   "execution_count": 29,
   "id": "28a53899",
   "metadata": {},
   "outputs": [
    {
     "data": {
      "text/plain": [
       "array([[1007.0462 , 1000.3447 ],\n",
       "       [1008.0258 , 1001.38245],\n",
       "       [1019.31647, 1012.5404 ],\n",
       "       ...,\n",
       "       [1742.2823 , 1726.2273 ],\n",
       "       [1732.1206 , 1714.7745 ],\n",
       "       [1709.1692 , 1691.3522 ]], dtype=float32)"
      ]
     },
     "execution_count": 29,
     "metadata": {},
     "output_type": "execute_result"
    }
   ],
   "source": [
    "inverse=MMS.inverse_transform(y_pred)\n",
    "inverse"
   ]
  },
  {
   "cell_type": "code",
   "execution_count": null,
   "id": "4d1c95fd",
   "metadata": {},
   "outputs": [],
   "source": []
  }
 ],
 "metadata": {
  "kernelspec": {
   "display_name": "Python 3 (ipykernel)",
   "language": "python",
   "name": "python3"
  },
  "language_info": {
   "codemirror_mode": {
    "name": "ipython",
    "version": 3
   },
   "file_extension": ".py",
   "mimetype": "text/x-python",
   "name": "python",
   "nbconvert_exporter": "python",
   "pygments_lexer": "ipython3",
   "version": "3.10.9"
  }
 },
 "nbformat": 4,
 "nbformat_minor": 5
}
